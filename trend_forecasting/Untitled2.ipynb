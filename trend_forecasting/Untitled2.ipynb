{
 "cells": [
  {
   "cell_type": "code",
   "execution_count": 52,
   "id": "b5f884ca-5412-4878-9ccc-4b45a8dbe01c",
   "metadata": {},
   "outputs": [],
   "source": [
    "import tensorflow as tf\n",
    "from tensorflow.keras import layers, models\n",
    "from tensorflow.keras.datasets import fashion_mnist\n",
    "import os  # Import the os module for file path operations\n",
    "import pandas as pd  # Import pandas for data manipulation and analysis\n",
    "import matplotlib.pyplot as plt  # Import matplotlib for plotting graphs\n",
    "import numpy as np  # Import numpy for numerical operations\n",
    "import requests  # Import requests for HTTP requests\n",
    "from PIL import Image  # Import PIL for image processing\n",
    "from io import BytesIO  # Import BytesIO for handling image data in memory\n",
    "from statsmodels.tsa.arima.model import ARIMA  # Import ARIMA for time series forecasting\n"
   ]
  },
  {
   "cell_type": "code",
   "execution_count": 54,
   "id": "0fc1c167-0277-4329-b2eb-80730200339a",
   "metadata": {},
   "outputs": [],
   "source": [
    "# Load the Fashion MNIST dataset\n",
    "(train_images, train_labels), (test_images, test_labels) = fashion_mnist.load_data()\n",
    "\n",
    "# Preprocess the data\n",
    "train_images = train_images.reshape((train_images.shape[0], 28, 28, 1)).astype('float32') / 255\n",
    "test_images = test_images.reshape((test_images.shape[0], 28, 28, 1)).astype('float32') / 255\n",
    "\n",
    "# Convert labels to one-hot encoding\n",
    "train_labels = tf.keras.utils.to_categorical(train_labels, 10)\n",
    "test_labels = tf.keras.utils.to_categorical(test_labels, 10)\n"
   ]
  },
  {
   "cell_type": "code",
   "execution_count": 56,
   "id": "aa6677ac-ab04-442e-9b1b-b62e09713960",
   "metadata": {},
   "outputs": [
    {
     "data": {
      "text/html": [
       "<pre style=\"white-space:pre;overflow-x:auto;line-height:normal;font-family:Menlo,'DejaVu Sans Mono',consolas,'Courier New',monospace\"><span style=\"font-weight: bold\">Model: \"sequential\"</span>\n",
       "</pre>\n"
      ],
      "text/plain": [
       "\u001b[1mModel: \"sequential\"\u001b[0m\n"
      ]
     },
     "metadata": {},
     "output_type": "display_data"
    },
    {
     "data": {
      "text/html": [
       "<pre style=\"white-space:pre;overflow-x:auto;line-height:normal;font-family:Menlo,'DejaVu Sans Mono',consolas,'Courier New',monospace\">┏━━━━━━━━━━━━━━━━━━━━━━━━━━━━━━━━━┳━━━━━━━━━━━━━━━━━━━━━━━━┳━━━━━━━━━━━━━━━┓\n",
       "┃<span style=\"font-weight: bold\"> Layer (type)                    </span>┃<span style=\"font-weight: bold\"> Output Shape           </span>┃<span style=\"font-weight: bold\">       Param # </span>┃\n",
       "┡━━━━━━━━━━━━━━━━━━━━━━━━━━━━━━━━━╇━━━━━━━━━━━━━━━━━━━━━━━━╇━━━━━━━━━━━━━━━┩\n",
       "│ conv2d (<span style=\"color: #0087ff; text-decoration-color: #0087ff\">Conv2D</span>)                 │ (<span style=\"color: #00d7ff; text-decoration-color: #00d7ff\">None</span>, <span style=\"color: #00af00; text-decoration-color: #00af00\">28</span>, <span style=\"color: #00af00; text-decoration-color: #00af00\">28</span>, <span style=\"color: #00af00; text-decoration-color: #00af00\">32</span>)     │           <span style=\"color: #00af00; text-decoration-color: #00af00\">320</span> │\n",
       "├─────────────────────────────────┼────────────────────────┼───────────────┤\n",
       "│ batch_normalization             │ (<span style=\"color: #00d7ff; text-decoration-color: #00d7ff\">None</span>, <span style=\"color: #00af00; text-decoration-color: #00af00\">28</span>, <span style=\"color: #00af00; text-decoration-color: #00af00\">28</span>, <span style=\"color: #00af00; text-decoration-color: #00af00\">32</span>)     │           <span style=\"color: #00af00; text-decoration-color: #00af00\">128</span> │\n",
       "│ (<span style=\"color: #0087ff; text-decoration-color: #0087ff\">BatchNormalization</span>)            │                        │               │\n",
       "├─────────────────────────────────┼────────────────────────┼───────────────┤\n",
       "│ max_pooling2d (<span style=\"color: #0087ff; text-decoration-color: #0087ff\">MaxPooling2D</span>)    │ (<span style=\"color: #00d7ff; text-decoration-color: #00d7ff\">None</span>, <span style=\"color: #00af00; text-decoration-color: #00af00\">14</span>, <span style=\"color: #00af00; text-decoration-color: #00af00\">14</span>, <span style=\"color: #00af00; text-decoration-color: #00af00\">32</span>)     │             <span style=\"color: #00af00; text-decoration-color: #00af00\">0</span> │\n",
       "├─────────────────────────────────┼────────────────────────┼───────────────┤\n",
       "│ conv2d_1 (<span style=\"color: #0087ff; text-decoration-color: #0087ff\">Conv2D</span>)               │ (<span style=\"color: #00d7ff; text-decoration-color: #00d7ff\">None</span>, <span style=\"color: #00af00; text-decoration-color: #00af00\">14</span>, <span style=\"color: #00af00; text-decoration-color: #00af00\">14</span>, <span style=\"color: #00af00; text-decoration-color: #00af00\">64</span>)     │        <span style=\"color: #00af00; text-decoration-color: #00af00\">18,496</span> │\n",
       "├─────────────────────────────────┼────────────────────────┼───────────────┤\n",
       "│ batch_normalization_1           │ (<span style=\"color: #00d7ff; text-decoration-color: #00d7ff\">None</span>, <span style=\"color: #00af00; text-decoration-color: #00af00\">14</span>, <span style=\"color: #00af00; text-decoration-color: #00af00\">14</span>, <span style=\"color: #00af00; text-decoration-color: #00af00\">64</span>)     │           <span style=\"color: #00af00; text-decoration-color: #00af00\">256</span> │\n",
       "│ (<span style=\"color: #0087ff; text-decoration-color: #0087ff\">BatchNormalization</span>)            │                        │               │\n",
       "├─────────────────────────────────┼────────────────────────┼───────────────┤\n",
       "│ max_pooling2d_1 (<span style=\"color: #0087ff; text-decoration-color: #0087ff\">MaxPooling2D</span>)  │ (<span style=\"color: #00d7ff; text-decoration-color: #00d7ff\">None</span>, <span style=\"color: #00af00; text-decoration-color: #00af00\">7</span>, <span style=\"color: #00af00; text-decoration-color: #00af00\">7</span>, <span style=\"color: #00af00; text-decoration-color: #00af00\">64</span>)       │             <span style=\"color: #00af00; text-decoration-color: #00af00\">0</span> │\n",
       "├─────────────────────────────────┼────────────────────────┼───────────────┤\n",
       "│ conv2d_2 (<span style=\"color: #0087ff; text-decoration-color: #0087ff\">Conv2D</span>)               │ (<span style=\"color: #00d7ff; text-decoration-color: #00d7ff\">None</span>, <span style=\"color: #00af00; text-decoration-color: #00af00\">7</span>, <span style=\"color: #00af00; text-decoration-color: #00af00\">7</span>, <span style=\"color: #00af00; text-decoration-color: #00af00\">128</span>)      │        <span style=\"color: #00af00; text-decoration-color: #00af00\">73,856</span> │\n",
       "├─────────────────────────────────┼────────────────────────┼───────────────┤\n",
       "│ batch_normalization_2           │ (<span style=\"color: #00d7ff; text-decoration-color: #00d7ff\">None</span>, <span style=\"color: #00af00; text-decoration-color: #00af00\">7</span>, <span style=\"color: #00af00; text-decoration-color: #00af00\">7</span>, <span style=\"color: #00af00; text-decoration-color: #00af00\">128</span>)      │           <span style=\"color: #00af00; text-decoration-color: #00af00\">512</span> │\n",
       "│ (<span style=\"color: #0087ff; text-decoration-color: #0087ff\">BatchNormalization</span>)            │                        │               │\n",
       "├─────────────────────────────────┼────────────────────────┼───────────────┤\n",
       "│ max_pooling2d_2 (<span style=\"color: #0087ff; text-decoration-color: #0087ff\">MaxPooling2D</span>)  │ (<span style=\"color: #00d7ff; text-decoration-color: #00d7ff\">None</span>, <span style=\"color: #00af00; text-decoration-color: #00af00\">3</span>, <span style=\"color: #00af00; text-decoration-color: #00af00\">3</span>, <span style=\"color: #00af00; text-decoration-color: #00af00\">128</span>)      │             <span style=\"color: #00af00; text-decoration-color: #00af00\">0</span> │\n",
       "├─────────────────────────────────┼────────────────────────┼───────────────┤\n",
       "│ conv2d_3 (<span style=\"color: #0087ff; text-decoration-color: #0087ff\">Conv2D</span>)               │ (<span style=\"color: #00d7ff; text-decoration-color: #00d7ff\">None</span>, <span style=\"color: #00af00; text-decoration-color: #00af00\">3</span>, <span style=\"color: #00af00; text-decoration-color: #00af00\">3</span>, <span style=\"color: #00af00; text-decoration-color: #00af00\">128</span>)      │       <span style=\"color: #00af00; text-decoration-color: #00af00\">147,584</span> │\n",
       "├─────────────────────────────────┼────────────────────────┼───────────────┤\n",
       "│ batch_normalization_3           │ (<span style=\"color: #00d7ff; text-decoration-color: #00d7ff\">None</span>, <span style=\"color: #00af00; text-decoration-color: #00af00\">3</span>, <span style=\"color: #00af00; text-decoration-color: #00af00\">3</span>, <span style=\"color: #00af00; text-decoration-color: #00af00\">128</span>)      │           <span style=\"color: #00af00; text-decoration-color: #00af00\">512</span> │\n",
       "│ (<span style=\"color: #0087ff; text-decoration-color: #0087ff\">BatchNormalization</span>)            │                        │               │\n",
       "├─────────────────────────────────┼────────────────────────┼───────────────┤\n",
       "│ max_pooling2d_3 (<span style=\"color: #0087ff; text-decoration-color: #0087ff\">MaxPooling2D</span>)  │ (<span style=\"color: #00d7ff; text-decoration-color: #00d7ff\">None</span>, <span style=\"color: #00af00; text-decoration-color: #00af00\">1</span>, <span style=\"color: #00af00; text-decoration-color: #00af00\">1</span>, <span style=\"color: #00af00; text-decoration-color: #00af00\">128</span>)      │             <span style=\"color: #00af00; text-decoration-color: #00af00\">0</span> │\n",
       "├─────────────────────────────────┼────────────────────────┼───────────────┤\n",
       "│ flatten (<span style=\"color: #0087ff; text-decoration-color: #0087ff\">Flatten</span>)               │ (<span style=\"color: #00d7ff; text-decoration-color: #00d7ff\">None</span>, <span style=\"color: #00af00; text-decoration-color: #00af00\">128</span>)            │             <span style=\"color: #00af00; text-decoration-color: #00af00\">0</span> │\n",
       "├─────────────────────────────────┼────────────────────────┼───────────────┤\n",
       "│ dense (<span style=\"color: #0087ff; text-decoration-color: #0087ff\">Dense</span>)                   │ (<span style=\"color: #00d7ff; text-decoration-color: #00d7ff\">None</span>, <span style=\"color: #00af00; text-decoration-color: #00af00\">512</span>)            │        <span style=\"color: #00af00; text-decoration-color: #00af00\">66,048</span> │\n",
       "├─────────────────────────────────┼────────────────────────┼───────────────┤\n",
       "│ dropout (<span style=\"color: #0087ff; text-decoration-color: #0087ff\">Dropout</span>)               │ (<span style=\"color: #00d7ff; text-decoration-color: #00d7ff\">None</span>, <span style=\"color: #00af00; text-decoration-color: #00af00\">512</span>)            │             <span style=\"color: #00af00; text-decoration-color: #00af00\">0</span> │\n",
       "├─────────────────────────────────┼────────────────────────┼───────────────┤\n",
       "│ dense_1 (<span style=\"color: #0087ff; text-decoration-color: #0087ff\">Dense</span>)                 │ (<span style=\"color: #00d7ff; text-decoration-color: #00d7ff\">None</span>, <span style=\"color: #00af00; text-decoration-color: #00af00\">10</span>)             │         <span style=\"color: #00af00; text-decoration-color: #00af00\">5,130</span> │\n",
       "└─────────────────────────────────┴────────────────────────┴───────────────┘\n",
       "</pre>\n"
      ],
      "text/plain": [
       "┏━━━━━━━━━━━━━━━━━━━━━━━━━━━━━━━━━┳━━━━━━━━━━━━━━━━━━━━━━━━┳━━━━━━━━━━━━━━━┓\n",
       "┃\u001b[1m \u001b[0m\u001b[1mLayer (type)                   \u001b[0m\u001b[1m \u001b[0m┃\u001b[1m \u001b[0m\u001b[1mOutput Shape          \u001b[0m\u001b[1m \u001b[0m┃\u001b[1m \u001b[0m\u001b[1m      Param #\u001b[0m\u001b[1m \u001b[0m┃\n",
       "┡━━━━━━━━━━━━━━━━━━━━━━━━━━━━━━━━━╇━━━━━━━━━━━━━━━━━━━━━━━━╇━━━━━━━━━━━━━━━┩\n",
       "│ conv2d (\u001b[38;5;33mConv2D\u001b[0m)                 │ (\u001b[38;5;45mNone\u001b[0m, \u001b[38;5;34m28\u001b[0m, \u001b[38;5;34m28\u001b[0m, \u001b[38;5;34m32\u001b[0m)     │           \u001b[38;5;34m320\u001b[0m │\n",
       "├─────────────────────────────────┼────────────────────────┼───────────────┤\n",
       "│ batch_normalization             │ (\u001b[38;5;45mNone\u001b[0m, \u001b[38;5;34m28\u001b[0m, \u001b[38;5;34m28\u001b[0m, \u001b[38;5;34m32\u001b[0m)     │           \u001b[38;5;34m128\u001b[0m │\n",
       "│ (\u001b[38;5;33mBatchNormalization\u001b[0m)            │                        │               │\n",
       "├─────────────────────────────────┼────────────────────────┼───────────────┤\n",
       "│ max_pooling2d (\u001b[38;5;33mMaxPooling2D\u001b[0m)    │ (\u001b[38;5;45mNone\u001b[0m, \u001b[38;5;34m14\u001b[0m, \u001b[38;5;34m14\u001b[0m, \u001b[38;5;34m32\u001b[0m)     │             \u001b[38;5;34m0\u001b[0m │\n",
       "├─────────────────────────────────┼────────────────────────┼───────────────┤\n",
       "│ conv2d_1 (\u001b[38;5;33mConv2D\u001b[0m)               │ (\u001b[38;5;45mNone\u001b[0m, \u001b[38;5;34m14\u001b[0m, \u001b[38;5;34m14\u001b[0m, \u001b[38;5;34m64\u001b[0m)     │        \u001b[38;5;34m18,496\u001b[0m │\n",
       "├─────────────────────────────────┼────────────────────────┼───────────────┤\n",
       "│ batch_normalization_1           │ (\u001b[38;5;45mNone\u001b[0m, \u001b[38;5;34m14\u001b[0m, \u001b[38;5;34m14\u001b[0m, \u001b[38;5;34m64\u001b[0m)     │           \u001b[38;5;34m256\u001b[0m │\n",
       "│ (\u001b[38;5;33mBatchNormalization\u001b[0m)            │                        │               │\n",
       "├─────────────────────────────────┼────────────────────────┼───────────────┤\n",
       "│ max_pooling2d_1 (\u001b[38;5;33mMaxPooling2D\u001b[0m)  │ (\u001b[38;5;45mNone\u001b[0m, \u001b[38;5;34m7\u001b[0m, \u001b[38;5;34m7\u001b[0m, \u001b[38;5;34m64\u001b[0m)       │             \u001b[38;5;34m0\u001b[0m │\n",
       "├─────────────────────────────────┼────────────────────────┼───────────────┤\n",
       "│ conv2d_2 (\u001b[38;5;33mConv2D\u001b[0m)               │ (\u001b[38;5;45mNone\u001b[0m, \u001b[38;5;34m7\u001b[0m, \u001b[38;5;34m7\u001b[0m, \u001b[38;5;34m128\u001b[0m)      │        \u001b[38;5;34m73,856\u001b[0m │\n",
       "├─────────────────────────────────┼────────────────────────┼───────────────┤\n",
       "│ batch_normalization_2           │ (\u001b[38;5;45mNone\u001b[0m, \u001b[38;5;34m7\u001b[0m, \u001b[38;5;34m7\u001b[0m, \u001b[38;5;34m128\u001b[0m)      │           \u001b[38;5;34m512\u001b[0m │\n",
       "│ (\u001b[38;5;33mBatchNormalization\u001b[0m)            │                        │               │\n",
       "├─────────────────────────────────┼────────────────────────┼───────────────┤\n",
       "│ max_pooling2d_2 (\u001b[38;5;33mMaxPooling2D\u001b[0m)  │ (\u001b[38;5;45mNone\u001b[0m, \u001b[38;5;34m3\u001b[0m, \u001b[38;5;34m3\u001b[0m, \u001b[38;5;34m128\u001b[0m)      │             \u001b[38;5;34m0\u001b[0m │\n",
       "├─────────────────────────────────┼────────────────────────┼───────────────┤\n",
       "│ conv2d_3 (\u001b[38;5;33mConv2D\u001b[0m)               │ (\u001b[38;5;45mNone\u001b[0m, \u001b[38;5;34m3\u001b[0m, \u001b[38;5;34m3\u001b[0m, \u001b[38;5;34m128\u001b[0m)      │       \u001b[38;5;34m147,584\u001b[0m │\n",
       "├─────────────────────────────────┼────────────────────────┼───────────────┤\n",
       "│ batch_normalization_3           │ (\u001b[38;5;45mNone\u001b[0m, \u001b[38;5;34m3\u001b[0m, \u001b[38;5;34m3\u001b[0m, \u001b[38;5;34m128\u001b[0m)      │           \u001b[38;5;34m512\u001b[0m │\n",
       "│ (\u001b[38;5;33mBatchNormalization\u001b[0m)            │                        │               │\n",
       "├─────────────────────────────────┼────────────────────────┼───────────────┤\n",
       "│ max_pooling2d_3 (\u001b[38;5;33mMaxPooling2D\u001b[0m)  │ (\u001b[38;5;45mNone\u001b[0m, \u001b[38;5;34m1\u001b[0m, \u001b[38;5;34m1\u001b[0m, \u001b[38;5;34m128\u001b[0m)      │             \u001b[38;5;34m0\u001b[0m │\n",
       "├─────────────────────────────────┼────────────────────────┼───────────────┤\n",
       "│ flatten (\u001b[38;5;33mFlatten\u001b[0m)               │ (\u001b[38;5;45mNone\u001b[0m, \u001b[38;5;34m128\u001b[0m)            │             \u001b[38;5;34m0\u001b[0m │\n",
       "├─────────────────────────────────┼────────────────────────┼───────────────┤\n",
       "│ dense (\u001b[38;5;33mDense\u001b[0m)                   │ (\u001b[38;5;45mNone\u001b[0m, \u001b[38;5;34m512\u001b[0m)            │        \u001b[38;5;34m66,048\u001b[0m │\n",
       "├─────────────────────────────────┼────────────────────────┼───────────────┤\n",
       "│ dropout (\u001b[38;5;33mDropout\u001b[0m)               │ (\u001b[38;5;45mNone\u001b[0m, \u001b[38;5;34m512\u001b[0m)            │             \u001b[38;5;34m0\u001b[0m │\n",
       "├─────────────────────────────────┼────────────────────────┼───────────────┤\n",
       "│ dense_1 (\u001b[38;5;33mDense\u001b[0m)                 │ (\u001b[38;5;45mNone\u001b[0m, \u001b[38;5;34m10\u001b[0m)             │         \u001b[38;5;34m5,130\u001b[0m │\n",
       "└─────────────────────────────────┴────────────────────────┴───────────────┘\n"
      ]
     },
     "metadata": {},
     "output_type": "display_data"
    },
    {
     "data": {
      "text/html": [
       "<pre style=\"white-space:pre;overflow-x:auto;line-height:normal;font-family:Menlo,'DejaVu Sans Mono',consolas,'Courier New',monospace\"><span style=\"font-weight: bold\"> Total params: </span><span style=\"color: #00af00; text-decoration-color: #00af00\">312,842</span> (1.19 MB)\n",
       "</pre>\n"
      ],
      "text/plain": [
       "\u001b[1m Total params: \u001b[0m\u001b[38;5;34m312,842\u001b[0m (1.19 MB)\n"
      ]
     },
     "metadata": {},
     "output_type": "display_data"
    },
    {
     "data": {
      "text/html": [
       "<pre style=\"white-space:pre;overflow-x:auto;line-height:normal;font-family:Menlo,'DejaVu Sans Mono',consolas,'Courier New',monospace\"><span style=\"font-weight: bold\"> Trainable params: </span><span style=\"color: #00af00; text-decoration-color: #00af00\">312,138</span> (1.19 MB)\n",
       "</pre>\n"
      ],
      "text/plain": [
       "\u001b[1m Trainable params: \u001b[0m\u001b[38;5;34m312,138\u001b[0m (1.19 MB)\n"
      ]
     },
     "metadata": {},
     "output_type": "display_data"
    },
    {
     "data": {
      "text/html": [
       "<pre style=\"white-space:pre;overflow-x:auto;line-height:normal;font-family:Menlo,'DejaVu Sans Mono',consolas,'Courier New',monospace\"><span style=\"font-weight: bold\"> Non-trainable params: </span><span style=\"color: #00af00; text-decoration-color: #00af00\">704</span> (2.75 KB)\n",
       "</pre>\n"
      ],
      "text/plain": [
       "\u001b[1m Non-trainable params: \u001b[0m\u001b[38;5;34m704\u001b[0m (2.75 KB)\n"
      ]
     },
     "metadata": {},
     "output_type": "display_data"
    }
   ],
   "source": [
    "# Define the model\n",
    "model = models.Sequential([\n",
    "    layers.Input(shape=(28, 28, 1)),\n",
    "    layers.Conv2D(32, (3, 3), activation='relu', padding='same'),\n",
    "    layers.BatchNormalization(),\n",
    "    layers.MaxPooling2D((2, 2)),\n",
    "    layers.Conv2D(64, (3, 3), activation='relu', padding='same'),\n",
    "    layers.BatchNormalization(),\n",
    "    layers.MaxPooling2D((2, 2)),\n",
    "    layers.Conv2D(128, (3, 3), activation='relu', padding='same'),\n",
    "    layers.BatchNormalization(),\n",
    "    layers.MaxPooling2D((2, 2)),\n",
    "    layers.Conv2D(128, (3, 3), activation='relu', padding='same'),\n",
    "    layers.BatchNormalization(),\n",
    "    layers.MaxPooling2D((2, 2)),\n",
    "    layers.Flatten(),\n",
    "    layers.Dense(512, activation='relu'),\n",
    "    layers.Dropout(0.5),\n",
    "    layers.Dense(10, activation='softmax')  # 10 classes for Fashion MNIST\n",
    "])\n",
    "\n",
    "# Compile the model\n",
    "model.compile(optimizer='adam', loss='categorical_crossentropy', metrics=['accuracy'])\n",
    "\n",
    "# Print model summary\n",
    "model.summary()\n",
    "\n"
   ]
  },
  {
   "cell_type": "code",
   "execution_count": 58,
   "id": "253a0d61-6900-4f10-bd75-fb501289382e",
   "metadata": {},
   "outputs": [
    {
     "name": "stdout",
     "output_type": "stream",
     "text": [
      "Epoch 1/10\n",
      "\u001b[1m938/938\u001b[0m \u001b[32m━━━━━━━━━━━━━━━━━━━━\u001b[0m\u001b[37m\u001b[0m \u001b[1m59s\u001b[0m 54ms/step - accuracy: 0.8093 - loss: 0.5451 - val_accuracy: 0.8681 - val_loss: 0.3778\n",
      "Epoch 2/10\n",
      "\u001b[1m938/938\u001b[0m \u001b[32m━━━━━━━━━━━━━━━━━━━━\u001b[0m\u001b[37m\u001b[0m \u001b[1m55s\u001b[0m 59ms/step - accuracy: 0.9057 - loss: 0.2635 - val_accuracy: 0.8949 - val_loss: 0.2948\n",
      "Epoch 3/10\n",
      "\u001b[1m938/938\u001b[0m \u001b[32m━━━━━━━━━━━━━━━━━━━━\u001b[0m\u001b[37m\u001b[0m \u001b[1m57s\u001b[0m 60ms/step - accuracy: 0.9216 - loss: 0.2164 - val_accuracy: 0.9055 - val_loss: 0.2543\n",
      "Epoch 4/10\n",
      "\u001b[1m938/938\u001b[0m \u001b[32m━━━━━━━━━━━━━━━━━━━━\u001b[0m\u001b[37m\u001b[0m \u001b[1m54s\u001b[0m 57ms/step - accuracy: 0.9298 - loss: 0.1913 - val_accuracy: 0.9058 - val_loss: 0.2557\n",
      "Epoch 5/10\n",
      "\u001b[1m938/938\u001b[0m \u001b[32m━━━━━━━━━━━━━━━━━━━━\u001b[0m\u001b[37m\u001b[0m \u001b[1m63s\u001b[0m 67ms/step - accuracy: 0.9386 - loss: 0.1662 - val_accuracy: 0.9131 - val_loss: 0.2499\n",
      "Epoch 6/10\n",
      "\u001b[1m938/938\u001b[0m \u001b[32m━━━━━━━━━━━━━━━━━━━━\u001b[0m\u001b[37m\u001b[0m \u001b[1m63s\u001b[0m 67ms/step - accuracy: 0.9468 - loss: 0.1467 - val_accuracy: 0.9164 - val_loss: 0.2387\n",
      "Epoch 7/10\n",
      "\u001b[1m938/938\u001b[0m \u001b[32m━━━━━━━━━━━━━━━━━━━━\u001b[0m\u001b[37m\u001b[0m \u001b[1m64s\u001b[0m 68ms/step - accuracy: 0.9515 - loss: 0.1277 - val_accuracy: 0.9110 - val_loss: 0.2659\n",
      "Epoch 8/10\n",
      "\u001b[1m938/938\u001b[0m \u001b[32m━━━━━━━━━━━━━━━━━━━━\u001b[0m\u001b[37m\u001b[0m \u001b[1m63s\u001b[0m 67ms/step - accuracy: 0.9570 - loss: 0.1150 - val_accuracy: 0.9054 - val_loss: 0.2934\n",
      "Epoch 9/10\n",
      "\u001b[1m938/938\u001b[0m \u001b[32m━━━━━━━━━━━━━━━━━━━━\u001b[0m\u001b[37m\u001b[0m \u001b[1m62s\u001b[0m 66ms/step - accuracy: 0.9628 - loss: 0.0985 - val_accuracy: 0.8897 - val_loss: 0.3928\n",
      "Epoch 10/10\n",
      "\u001b[1m938/938\u001b[0m \u001b[32m━━━━━━━━━━━━━━━━━━━━\u001b[0m\u001b[37m\u001b[0m \u001b[1m67s\u001b[0m 71ms/step - accuracy: 0.9661 - loss: 0.0896 - val_accuracy: 0.9217 - val_loss: 0.2755\n"
     ]
    }
   ],
   "source": [
    "# Train the model\n",
    "history = model.fit(train_images, train_labels, epochs=10, batch_size=64, validation_data=(test_images, test_labels))\n"
   ]
  },
  {
   "cell_type": "code",
   "execution_count": 43,
   "id": "aba8c1ee-a094-458a-ad27-5fdc855026f8",
   "metadata": {},
   "outputs": [
    {
     "name": "stdout",
     "output_type": "stream",
     "text": [
      "Current working directory: C:\\Users\\minal\n",
      "Model saved at: C:\\Users\\minal\\fashion_mnist_model.keras\n",
      "Model loaded from: C:\\Users\\minal\\fashion_mnist_model.keras\n"
     ]
    }
   ],
   "source": [
    "# Get the current working directory\n",
    "current_path = os.getcwd()\n",
    "print(f\"Current working directory: {current_path}\")\n",
    "\n",
    "# Save the model in Keras native format\n",
    "model_path = os.path.join(current_path, 'fashion_mnist_model.keras')\n",
    "model.save(model_path)\n",
    "print(f\"Model saved at: {model_path}\")\n",
    "\n",
    "# Load the model from the path\n",
    "loaded_model = tf.keras.models.load_model(model_path)\n",
    "print(f\"Model loaded from: {model_path}\")\n"
   ]
  },
  {
   "cell_type": "code",
   "execution_count": 59,
   "id": "901a19ee-fd5b-45b6-a65d-4a6a8f2eed96",
   "metadata": {},
   "outputs": [],
   "source": [
    "# Define the function to preprocess the image and make predictions\n",
    "def preprocess_image(url):\n",
    "    try:\n",
    "        response = requests.get(url)\n",
    "        response.raise_for_status()  # Check if the request was successful\n",
    "        \n",
    "        # Check if the response is an image\n",
    "        if 'image' not in response.headers['Content-Type']:\n",
    "            print(f\"URL does not return an image: {url}\")\n",
    "            return None\n",
    "        \n",
    "        img = Image.open(BytesIO(response.content)).convert('L')  # Convert image to grayscale\n",
    "        img = img.resize((28, 28))  # Resize image to 28x28\n",
    "        img_array = np.array(img) / 255.0  # Normalize the image\n",
    "        img_array = img_array.reshape((1, 28, 28, 1))  # Reshape for the model\n",
    "        return img_array\n",
    "    except (requests.RequestException, UnidentifiedImageError) as e:\n",
    "        print(f\"Error with URL {url}: {e}\")\n",
    "        return None\n",
    "\n",
    "def predict_from_image_url(url):\n",
    "    img_array = preprocess_image(url)\n",
    "    if img_array is not None:\n",
    "        prediction = loaded_model.predict(img_array)\n",
    "        class_index = np.argmax(prediction, axis=1)[0]\n",
    "        class_names = ['T-shirt/top', 'Trouser', 'Pullover', 'Dress', 'Coat', \n",
    "                       'Sandal', 'Shirt', 'Sneaker', 'Bag', 'Ankle boot']\n",
    "        return class_names[class_index]\n",
    "    else:\n",
    "        return None\n"
   ]
  },
  {
   "cell_type": "code",
   "execution_count": 63,
   "id": "72b5c1fc-4be9-4437-a722-8bc329699456",
   "metadata": {},
   "outputs": [
    {
     "name": "stderr",
     "output_type": "stream",
     "text": [
      "C:\\Users\\minal\\AppData\\Local\\Temp\\ipykernel_20320\\4085596280.py:3: FutureWarning: 'M' is deprecated and will be removed in a future version, please use 'ME' instead.\n",
      "  'Date': pd.date_range(start='2023-01-01', periods=12, freq='M'),\n",
      "C:\\Users\\minal\\anaconda3\\Lib\\site-packages\\statsmodels\\tsa\\base\\tsa_model.py:473: ValueWarning: No frequency information was provided, so inferred frequency ME will be used.\n",
      "  self._init_dates(dates, freq)\n",
      "C:\\Users\\minal\\anaconda3\\Lib\\site-packages\\statsmodels\\tsa\\base\\tsa_model.py:473: ValueWarning: No frequency information was provided, so inferred frequency ME will be used.\n",
      "  self._init_dates(dates, freq)\n",
      "C:\\Users\\minal\\anaconda3\\Lib\\site-packages\\statsmodels\\tsa\\base\\tsa_model.py:473: ValueWarning: No frequency information was provided, so inferred frequency ME will be used.\n",
      "  self._init_dates(dates, freq)\n",
      "C:\\Users\\minal\\anaconda3\\Lib\\site-packages\\statsmodels\\base\\model.py:607: ConvergenceWarning: Maximum Likelihood optimization failed to converge. Check mle_retvals\n",
      "  warnings.warn(\"Maximum Likelihood optimization failed to \"\n",
      "C:\\Users\\minal\\AppData\\Local\\Temp\\ipykernel_20320\\4085596280.py:17: FutureWarning: 'M' is deprecated and will be removed in a future version, please use 'ME' instead.\n",
      "  plt.plot(pd.date_range(start='2024-01-01', periods=3, freq='M'), forecast, label='Forecasted Sales', linestyle='--')\n"
     ]
    },
    {
     "data": {
      "image/png": "[encoded data removed]",
      "text/plain": [
       "<Figure size 1000x600 with 1 Axes>"
      ]
     },
     "metadata": {},
     "output_type": "display_data"
    },
    {
     "name": "stdout",
     "output_type": "stream",
     "text": [
      "Forecasted Sales for the next 3 months:\n",
      "Month 1: 393.66\n",
      "Month 2: 407.32\n",
      "Month 3: 420.98\n"
     ]
    }
   ],
   "source": [
    "# Trend Forecasting\n",
    "data = {\n",
    "    'Date': pd.date_range(start='2023-01-01', periods=12, freq='M'),\n",
    "    'Sales': [200, 220, 250, 210, 260, 270, 300, 320, 330, 340, 360, 380]\n",
    "}\n",
    "trend_df = pd.DataFrame(data)\n",
    "trend_df.set_index('Date', inplace=True)\n",
    "\n",
    "# Fit ARIMA model\n",
    "model = ARIMA(trend_df['Sales'], order=(1, 1, 1))\n",
    "model_fit = model.fit()\n",
    "forecast = model_fit.forecast(steps=3)  # Get the forecast for the next 3 months\n",
    "\n",
    "# Plot the results\n",
    "plt.figure(figsize=(10, 6))\n",
    "plt.plot(trend_df.index, trend_df['Sales'], label='Historical Sales')\n",
    "plt.plot(pd.date_range(start='2024-01-01', periods=3, freq='M'), forecast, label='Forecasted Sales', linestyle='--')\n",
    "plt.title('Fashion Sales Trends and Forecast')\n",
    "plt.xlabel('Date')\n",
    "plt.ylabel('Sales')\n",
    "plt.legend()\n",
    "plt.show()\n",
    "\n",
    "# Print the forecasted values\n",
    "print(\"Forecasted Sales for the next 3 months:\")\n",
    "for i, value in enumerate(forecast, 1):\n",
    "    print(f\"Month {i}: {value:.2f}\")\n"
   ]
  },
  {
   "cell_type": "code",
   "execution_count": 48,
   "id": "ae4c7bcb-a7c0-4284-ae03-0ccf18f09dd3",
   "metadata": {},
   "outputs": [
    {
     "name": "stderr",
     "output_type": "stream",
     "text": [
      "[nltk_data] Downloading package vader_lexicon to\n",
      "[nltk_data]     C:\\Users\\minal\\AppData\\Roaming\\nltk_data...\n",
      "[nltk_data]   Package vader_lexicon is already up-to-date!\n"
     ]
    },
    {
     "data": {
      "text/plain": [
       "True"
      ]
     },
     "execution_count": 48,
     "metadata": {},
     "output_type": "execute_result"
    }
   ],
   "source": [
    "nltk.download('vader_lexicon')"
   ]
  },
  {
   "cell_type": "code",
   "execution_count": 76,
   "id": "5acf6e8a-6e8a-4c80-9b6d-ea5904a5aa13",
   "metadata": {},
   "outputs": [],
   "source": [
    "# Initialize Sentiment Analyzer\n",
    "from nltk.sentiment.vader import SentimentIntensityAnalyzer\n",
    "import nltk\n",
    "# Initialize Sentiment Analyzer\n",
    "sia = SentimentIntensityAnalyzer()\n",
    "\n",
    "# Example function to predict from an image URL\n",
    "def predict_from_image_url(image_url):\n",
    "    # Load image from URL\n",
    "    response = requests.get(image_url)\n",
    "    img = Image.open(BytesIO(response.content)).convert('L')\n",
    "    \n",
    "    # Resize the image to 28x28\n",
    "    img = img.resize((28, 28))\n",
    "    \n",
    "    # Convert the image to numpy array and preprocess\n",
    "    img_array = np.array(img).reshape((1, 28, 28, 1)).astype('float32') / 255\n",
    "    \n",
    "    # Make predictions\n",
    "    predictions = loaded_model.predict(img_array)\n",
    "    class_index = np.argmax(predictions)\n",
    "    \n",
    "    # Map index to class name\n",
    "    class_names = ['T-shirt/top', 'Trouser', 'Pullover', 'Dress', 'Coat', \n",
    "                   'Sandal', 'Shirt', 'Sneaker', 'Bag', 'Ankle boot']\n",
    "    return class_names[class_index]\n",
    "\n",
    "# Function for sentiment analysis\n",
    "def analyze_sentiment(text):\n",
    "    sentiment = sia.polarity_scores(text)\n",
    "    return sentiment\n",
    "\n"
   ]
  },
  {
   "cell_type": "code",
   "execution_count": 81,
   "id": "d3ee058a-b595-4b9a-932a-1e40370b29e2",
   "metadata": {},
   "outputs": [
    {
     "name": "stdout",
     "output_type": "stream",
     "text": [
      "Image  0\n",
      "\u001b[1m1/1\u001b[0m \u001b[32m━━━━━━━━━━━━━━━━━━━━\u001b[0m\u001b[37m\u001b[0m \u001b[1m0s\u001b[0m 50ms/step\n",
      "Predicted class: Bag\n",
      "\n",
      "Image  1\n",
      "\u001b[1m1/1\u001b[0m \u001b[32m━━━━━━━━━━━━━━━━━━━━\u001b[0m\u001b[37m\u001b[0m \u001b[1m0s\u001b[0m 39ms/step\n",
      "Predicted class: Shirt\n",
      "\n",
      "Image  2\n",
      "\u001b[1m1/1\u001b[0m \u001b[32m━━━━━━━━━━━━━━━━━━━━\u001b[0m\u001b[37m\u001b[0m \u001b[1m0s\u001b[0m 47ms/step\n",
      "Predicted class: Bag\n",
      "\n",
      "Image  3\n",
      "\u001b[1m1/1\u001b[0m \u001b[32m━━━━━━━━━━━━━━━━━━━━\u001b[0m\u001b[37m\u001b[0m \u001b[1m0s\u001b[0m 52ms/step\n",
      "Predicted class: Bag\n",
      "\n",
      "Image  4\n",
      "\u001b[1m1/1\u001b[0m \u001b[32m━━━━━━━━━━━━━━━━━━━━\u001b[0m\u001b[37m\u001b[0m \u001b[1m0s\u001b[0m 49ms/step\n",
      "Predicted class: Bag\n",
      "\n"
     ]
    }
   ],
   "source": [
    "# Define a function to extract valid links by removing editing parameters\n",
    "def extract_valid_links(urls):\n",
    "    valid_links = []\n",
    "    for url in urls:\n",
    "        base_url = url.split('?')[0]  # Remove parameters from the URL\n",
    "        # Check if the base URL is an image (filter by common image extensions)\n",
    "        if any(base_url.lower().endswith(ext) for ext in ['.png', '.jpg', '.jpeg', '.gif']):\n",
    "            valid_links.append(base_url)\n",
    "    return valid_links\n",
    "\n",
    "# Define a function to clean up image URLs\n",
    "def clean_image_urls(urls):\n",
    "    cleaned_urls = []\n",
    "    for url in urls:\n",
    "        # Remove any URL parameters that might interfere with image processing\n",
    "        base_url = url.split('?')[0]\n",
    "        cleaned_urls.append(base_url)\n",
    "    return cleaned_urls\n",
    "\n",
    "# Example list of image URLs (could be the result of your web scraping)\n",
    "test_urls = [\n",
    "    'https://www.elle.com/_assets/design-tokens/fre/static/icons/search.f1c199c.svg?crop=1.00xw:0.670xh;0,0.160xh&resize=1200:*',\n",
    "    'https://www.elle.com/_assets/design-tokens/fre/static/icons/close.38e3324.svg?crop=1.00xw:0.670xh;0,0.160xh&resize=1200:*',\n",
    "    'https://www.elle.com/_assets/design-tokens/elle/static/images/logos/logo.2856426.svg?primary=navLogoColor',\n",
    "    'https://hips.hearstapps.com/hmg-prod/images/hannah-berner-2-668d5a7aa493f.png?crop=1.00xw:0.670xh;0,0.160xh&resize=1200:*',\n",
    "    'https://hips.hearstapps.com/hmg-prod/images/elle-substack-index-668c2a662a751.jpg?crop=1.00xw:0.736xh;0,0.262xh&resize=1200:*',\n",
    "    'https://hips.hearstapps.com/hmg-prod/images/elm050123wlcolorful-005-2-6642320a2b71a.jpg?crop=0.886xw:0.560xh;0.0272xw,0.0628xh&resize=360:*',\n",
    "    'https://hips.hearstapps.com/hmg-prod/images/celine-elm-0521240726-665f7cb6231e8.jpg?crop=0.742xw:1.00xh;0.130xw,0&resize=360:*',\n",
    "    'https://hips.hearstapps.com/hmg-prod/images/ba-sh-ara-bag-6657c4f39bc29.jpg?crop=0.682xw:0.920xh;0.137xw,0.023xh&resize=360:*'\n",
    "]\n",
    "\n",
    "# Clean image URLs\n",
    "cleaned_urls = clean_image_urls(test_urls)\n",
    "\n",
    "# Extract valid image URLs\n",
    "valid_image_urls = extract_valid_links(cleaned_urls)\n",
    "i=0\n",
    "# Test the prediction function with valid URLs\n",
    "for url in valid_image_urls:\n",
    "    print(f\"Image \",i)\n",
    "    print(f\"Predicted class: {predict_from_image_url(url)}\")\n",
    "    print()\n",
    "    i+=1\n"
   ]
  },
  {
   "cell_type": "code",
   "execution_count": 94,
   "id": "4cab870d-90b8-4084-80c8-2246cc42f10d",
   "metadata": {},
   "outputs": [
    {
     "name": "stdout",
     "output_type": "stream",
     "text": [
      "Overwriting app.py\n"
     ]
    }
   ],
   "source": [
    "%%writefile app.py\n",
    "import streamlit as st\n",
    "import tensorflow as tf\n",
    "from PIL import Image\n",
    "import numpy as np\n",
    "import requests\n",
    "from io import BytesIO\n",
    "import os\n",
    "import pandas as pd\n",
    "from statsmodels.tsa.arima.model import ARIMA\n",
    "from nltk.sentiment.vader import SentimentIntensityAnalyzer\n",
    "import nltk\n",
    "import matplotlib.pyplot as plt \n",
    "\n",
    "# Download the VADER lexicon if not already present\n",
    "nltk.download('vader_lexicon')\n",
    "\n",
    "# Load the saved model\n",
    "current_path = os.getcwd()\n",
    "model_path = os.path.join(current_path, 'fashion_mnist_model.keras')\n",
    "loaded_model = tf.keras.models.load_model(model_path)\n",
    "\n",
    "# Define the prediction function\n",
    "def predict_from_image_url(image_url):\n",
    "    response = requests.get(image_url)\n",
    "    img = Image.open(BytesIO(response.content)).convert('L')\n",
    "    img = img.resize((28, 28))\n",
    "    img_array = np.array(img).reshape((1, 28, 28, 1)).astype('float32') / 255\n",
    "    predictions = loaded_model.predict(img_array)\n",
    "    class_index = np.argmax(predictions)\n",
    "    class_names = ['T-shirt/top', 'Trouser', 'Pullover', 'Dress', 'Coat', \n",
    "                   'Sandal', 'Shirt', 'Sneaker', 'Bag', 'Ankle boot']\n",
    "    return class_names[class_index]\n",
    "\n",
    "# Sentiment Analysis Function\n",
    "sia = SentimentIntensityAnalyzer()\n",
    "def analyze_sentiment(text):\n",
    "    sentiment_scores = sia.polarity_scores(text)\n",
    "    return sentiment_scores\n",
    "\n",
    "# Trend Forecasting Data and Model\n",
    "data = {\n",
    "    'Date': pd.date_range(start='2023-01-01', periods=12, freq='M'),\n",
    "    'Sales': [200, 220, 250, 210, 260, 270, 300, 320, 330, 340, 360, 380]\n",
    "}\n",
    "trend_df = pd.DataFrame(data)\n",
    "trend_df.set_index('Date', inplace=True)\n",
    "\n",
    "# Fit ARIMA model\n",
    "model = ARIMA(trend_df['Sales'], order=(1, 1, 1))\n",
    "model_fit = model.fit()\n",
    "forecast = model_fit.forecast(steps=3)\n",
    "# Get the forecast for the next 3 months\n",
    "# Plot the results\n",
    "plt.figure(figsize=(10, 6))\n",
    "plt.plot(trend_df.index, trend_df['Sales'], label='Historical Sales')\n",
    "plt.plot(pd.date_range(start='2024-01-01', periods=3, freq='M'), forecast, label='Forecasted Sales', linestyle='--')\n",
    "plt.title('Fashion Sales Trends and Forecast')\n",
    "plt.xlabel('Date')\n",
    "plt.ylabel('Sales')\n",
    "plt.legend()\n",
    "plt.show()\n",
    "\n",
    "# Streamlit app\n",
    "def main():\n",
    "    st.title('Fashion MNIST Classification and Trend Forecasting')\n",
    "    \n",
    "    # Fashion MNIST Prediction\n",
    "    st.header(\"Fashion MNIST Prediction\")\n",
    "    image_url = st.text_input(\"Enter the image URL:\")\n",
    "    if image_url:\n",
    "        predicted_class = predict_from_image_url(image_url)\n",
    "        st.write(f\"Predicted class: {predicted_class}\")\n",
    "\n",
    "    # Display Forecast DataFrame\n",
    "    st.header(\"Sales Trend Forecasting\")\n",
    "    st.write(trend_df)\n",
    "    \n",
    "    forecast_values = forecast.tolist()  # Convert forecast to list\n",
    "    st.write(\"Forecasted Sales for the next 3 months:\")\n",
    "    for i, value in enumerate(forecast_values, 1):\n",
    "        st.write(f\"Month {i}: {value:.2f}\")\n",
    "\n",
    "    # Sentiment Analysis\n",
    "    st.header(\"Sentiment Analysis\")\n",
    "    user_text = st.text_area(\"Enter text for sentiment analysis:\")\n",
    "    if user_text:\n",
    "        sentiment = analyze_sentiment(user_text)\n",
    "        st.write(f\"Sentiment Scores: {sentiment}\")\n",
    "\n",
    "if __name__ == \"__main__\":\n",
    "    main()\n"
   ]
  },
  {
   "cell_type": "code",
   "execution_count": 96,
   "id": "10f124a4-aab1-45c2-9132-538af936bebd",
   "metadata": {},
   "outputs": [
    {
     "name": "stdout",
     "output_type": "stream",
     "text": [
      "Overwriting app.py\n"
     ]
    }
   ],
   "source": [
    "%%writefile app.py\n",
    "import streamlit as st\n",
    "import tensorflow as tf\n",
    "from PIL import Image\n",
    "import numpy as np\n",
    "import requests\n",
    "from io import BytesIO\n",
    "import os\n",
    "import pandas as pd\n",
    "from statsmodels.tsa.arima.model import ARIMA\n",
    "from nltk.sentiment.vader import SentimentIntensityAnalyzer\n",
    "import nltk\n",
    "import matplotlib.pyplot as plt \n",
    "import io  # Import io for creating an in-memory buffer for the plot\n",
    "\n",
    "# Download the VADER lexicon if not already present\n",
    "nltk.download('vader_lexicon')\n",
    "\n",
    "# Load the saved model\n",
    "current_path = os.getcwd()\n",
    "model_path = os.path.join(current_path, 'fashion_mnist_model.keras')\n",
    "loaded_model = tf.keras.models.load_model(model_path)\n",
    "\n",
    "# Define the prediction function\n",
    "def predict_from_image_url(image_url):\n",
    "    response = requests.get(image_url)\n",
    "    img = Image.open(BytesIO(response.content)).convert('L')\n",
    "    img = img.resize((28, 28))\n",
    "    img_array = np.array(img).reshape((1, 28, 28, 1)).astype('float32') / 255\n",
    "    predictions = loaded_model.predict(img_array)\n",
    "    class_index = np.argmax(predictions)\n",
    "    class_names = ['T-shirt/top', 'Trouser', 'Pullover', 'Dress', 'Coat', \n",
    "                   'Sandal', 'Shirt', 'Sneaker', 'Bag', 'Ankle boot']\n",
    "    return class_names[class_index]\n",
    "\n",
    "# Sentiment Analysis Function\n",
    "sia = SentimentIntensityAnalyzer()\n",
    "def analyze_sentiment(text):\n",
    "    sentiment_scores = sia.polarity_scores(text)\n",
    "    return sentiment_scores\n",
    "\n",
    "# Trend Forecasting Data and Model\n",
    "data = {\n",
    "    'Date': pd.date_range(start='2023-01-01', periods=12, freq='M'),\n",
    "    'Sales': [200, 220, 250, 210, 260, 270, 300, 320, 330, 340, 360, 380]\n",
    "}\n",
    "trend_df = pd.DataFrame(data)\n",
    "trend_df.set_index('Date', inplace=True)\n",
    "\n",
    "# Fit ARIMA model\n",
    "model = ARIMA(trend_df['Sales'], order=(1, 1, 1))\n",
    "model_fit = model.fit()\n",
    "forecast = model_fit.forecast(steps=3)  # Get the forecast for the next 3 months\n",
    "\n",
    "# Plot the results\n",
    "def plot_forecast():\n",
    "    plt.figure(figsize=(10, 6))\n",
    "    plt.plot(trend_df.index, trend_df['Sales'], label='Historical Sales', color='blue')\n",
    "    plt.plot(pd.date_range(start='2024-01-01', periods=3, freq='M'), forecast, label='Forecasted Sales', linestyle='--', color='red')\n",
    "    plt.title('Fashion Sales Trends and Forecast')\n",
    "    plt.xlabel('Date')\n",
    "    plt.ylabel('Sales')\n",
    "    plt.legend()\n",
    "    plt.grid(True)\n",
    "    # Save the plot to a BytesIO object\n",
    "    buf = io.BytesIO()\n",
    "    plt.savefig(buf, format='png')\n",
    "    buf.seek(0)\n",
    "    plt.close()  # Close the plt figure to avoid display issues\n",
    "    return buf\n",
    "\n",
    "# Streamlit app\n",
    "def main():\n",
    "    st.title('Fashion MNIST Classification and Trend Forecasting')\n",
    "    \n",
    "    # Fashion MNIST Prediction\n",
    "    st.header(\"Fashion MNIST Prediction\")\n",
    "    image_url = st.text_input(\"Enter the image URL:\")\n",
    "    if image_url:\n",
    "        predicted_class = predict_from_image_url(image_url)\n",
    "        st.write(f\"Predicted class: {predicted_class}\")\n",
    "\n",
    "    # Display Forecast DataFrame\n",
    "    st.header(\"Sales Trend Forecasting\")\n",
    "    st.write(trend_df)\n",
    "    \n",
    "    # Plot and display the forecast graph\n",
    "    st.subheader(\"Sales Trend Forecast Plot\")\n",
    "    buf = plot_forecast()\n",
    "    st.image(buf, caption=\"Sales Trend and Forecast\", use_column_width=True)\n",
    "    \n",
    "    forecast_values = forecast.tolist()  # Convert forecast to list\n",
    "    st.write(\"Forecasted Sales for the next 3 months:\")\n",
    "    for i, value in enumerate(forecast_values, 1):\n",
    "        st.write(f\"Month {i}: {value:.2f}\")\n",
    "\n",
    "    # Sentiment Analysis\n",
    "    st.header(\"Sentiment Analysis\")\n",
    "    user_text = st.text_area(\"Enter text for sentiment analysis:\")\n",
    "    if user_text:\n",
    "        sentiment = analyze_sentiment(user_text)\n",
    "        st.write(f\"Sentiment Scores: {sentiment}\")\n",
    "\n",
    "if __name__ == \"__main__\":\n",
    "    main()\n"
   ]
  },
  {
   "cell_type": "code",
   "execution_count": null,
   "id": "5ed668dd-3a82-4e59-a778-11a8ddf1210a",
   "metadata": {},
   "outputs": [],
   "source": []
  }
 ],
 "metadata": {
  "kernelspec": {
   "display_name": "Python 3 (ipykernel)",
   "language": "python",
   "name": "python3"
  },
  "language_info": {
   "codemirror_mode": {
    "name": "ipython",
    "version": 3
   },
   "file_extension": ".py",
   "mimetype": "text/x-python",
   "name": "python",
   "nbconvert_exporter": "python",
   "pygments_lexer": "ipython3",
   "version": "3.12.4"
  }
 },
 "nbformat": 4,
 "nbformat_minor": 5
}
